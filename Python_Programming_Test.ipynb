{
  "nbformat": 4,
  "nbformat_minor": 0,
  "metadata": {
    "colab": {
      "provenance": []
    },
    "kernelspec": {
      "name": "python3",
      "display_name": "Python 3"
    },
    "language_info": {
      "name": "python"
    }
  },
  "cells": [
    {
      "cell_type": "code",
      "source": [
        "# Q no:1\n",
        "a = [15, 17, 11, 10, 20, 33, 99, 150, 7]\n",
        "\n",
        "for i in a:\n",
        "    if i % 2 != 0:\n",
        "        print(i, end = ' ')"
      ],
      "metadata": {
        "colab": {
          "base_uri": "https://localhost:8080/"
        },
        "id": "7wTCdokK1nN9",
        "outputId": "c0b5ced2-ee19-4d3d-c293-bf78f97026ff"
      },
      "execution_count": null,
      "outputs": [
        {
          "output_type": "stream",
          "name": "stdout",
          "text": [
            "15 17 11 33 99 7 "
          ]
        }
      ]
    },
    {
      "cell_type": "code",
      "source": [
        "# Q no:2\n",
        "a=[10,20,30,40]\n",
        "print(a)\n",
        "print(\"sum the all number:\",sum)"
      ],
      "metadata": {
        "colab": {
          "base_uri": "https://localhost:8080/"
        },
        "id": "dHzN3Tqf5q3O",
        "outputId": "e37f398f-a4c5-4b05-9817-9b14794695b6"
      },
      "execution_count": null,
      "outputs": [
        {
          "output_type": "stream",
          "name": "stdout",
          "text": [
            "[10, 20, 30, 40]\n",
            "sum the all number: 150\n"
          ]
        }
      ]
    },
    {
      "cell_type": "code",
      "source": [
        "# Q no:3\n",
        "a=[1,2,3,4,5]\n",
        "num=12345\n",
        "num=str(num)\n",
        "num=num[::-1]\n",
        "print(num)"
      ],
      "metadata": {
        "colab": {
          "base_uri": "https://localhost:8080/"
        },
        "id": "FpymR9k72lrt",
        "outputId": "9b49b35d-530c-4600-9332-004306bba66c"
      },
      "execution_count": null,
      "outputs": [
        {
          "output_type": "stream",
          "name": "stdout",
          "text": [
            "54321\n"
          ]
        }
      ]
    },
    {
      "cell_type": "code",
      "source": [
        "# Q no:4\n",
        "a= [20,30,40,44,78,80]\n",
        "b= list(set(a))\n",
        "b.sort()\n",
        "print(\"Top 2 maximum number in the list is :\",b[-1])\n",
        "print(\"Top 2 maximum number in the list is :\",b[-2])\n"
      ],
      "metadata": {
        "colab": {
          "base_uri": "https://localhost:8080/"
        },
        "id": "TXel9VrJFGSU",
        "outputId": "bd084ffd-7310-492f-e44d-69af6d80ec89"
      },
      "execution_count": 56,
      "outputs": [
        {
          "output_type": "stream",
          "name": "stdout",
          "text": [
            "Top 2 maximum number in the list is : 80\n",
            "Top 2 maximum number in the list is : 78\n"
          ]
        }
      ]
    },
    {
      "cell_type": "code",
      "source": [
        "# Q no:5\n",
        "a = [10, 24, 23, 21, 44, 65, 75, 99,98]\n",
        "b = list(set(a))\n",
        "b.sort()\n",
        "print(\"Second highest number in list is :\", b[-2])"
      ],
      "metadata": {
        "colab": {
          "base_uri": "https://localhost:8080/"
        },
        "id": "uMXxQJUH9PyV",
        "outputId": "bc24f891-d21f-48ea-bc28-bf5a73d131f3"
      },
      "execution_count": 45,
      "outputs": [
        {
          "output_type": "stream",
          "name": "stdout",
          "text": [
            "Second highest number in list is : 98\n"
          ]
        }
      ]
    },
    {
      "cell_type": "code",
      "source": [
        "# Q no:6\n",
        "a=(\"h\", \"a\" , \"c\" , \"b\" , \"d\" , \"f\" , \"e\" , \"i\" , \"g\")\n",
        "b=sorted(a)\n",
        "print(b)"
      ],
      "metadata": {
        "colab": {
          "base_uri": "https://localhost:8080/"
        },
        "id": "UVvVHgDtIuGl",
        "outputId": "4e68e6a2-6dd9-4b99-eae6-e0c37aa4a5d8"
      },
      "execution_count": 60,
      "outputs": [
        {
          "output_type": "stream",
          "name": "stdout",
          "text": [
            "['a', 'b', 'c', 'd', 'e', 'f', 'g', 'h', 'i']\n"
          ]
        }
      ]
    },
    {
      "cell_type": "code",
      "source": [
        "# Q no:7\n",
        "a=\"chhhcc\"\n",
        "b=\"\"\n",
        "for i in a:\n",
        "  if i not in b:\n",
        "     b=b+i\n",
        "print(b)"
      ],
      "metadata": {
        "colab": {
          "base_uri": "https://localhost:8080/"
        },
        "id": "s4E2U2zyUw7i",
        "outputId": "059eaf2a-3824-447f-e540-7f084bda01c8"
      },
      "execution_count": 80,
      "outputs": [
        {
          "output_type": "stream",
          "name": "stdout",
          "text": [
            "ch\n"
          ]
        }
      ]
    },
    {
      "cell_type": "code",
      "source": [
        "# Q no:8\n",
        "vowels = 'aeiou'\n",
        "\n",
        "v = input(\"Please Enter The any single alphbet: \")\n",
        "\n",
        "if v in vowels:\n",
        "  print(\"Your alphbet is vowel:\" , v)\n",
        "else:\n",
        "   print(\"Your alphbet is not a vowel\" , v)\n"
      ],
      "metadata": {
        "colab": {
          "base_uri": "https://localhost:8080/"
        },
        "id": "5T0K9JmHKhfa",
        "outputId": "0dda4797-db2b-4767-cd81-4fbaf6750015"
      },
      "execution_count": 68,
      "outputs": [
        {
          "output_type": "stream",
          "name": "stdout",
          "text": [
            "Please Enter The any single alphbet: b\n",
            "Your alphbet is not a vowel b\n"
          ]
        }
      ]
    },
    {
      "cell_type": "code",
      "source": [
        "# Q no:9\n",
        "n = int(input(\"Enter a number: \"))\n",
        "factorial = 1\n",
        "if n < 0:\n",
        "   print(\"Factors do not exist for negative numbers.\")\n",
        "elif n == 0:\n",
        "   print(\"The factorial of 0 is 1.\")\n",
        "else:\n",
        "   for i in range(1,n + 1):\n",
        "       factorial = factorial*i\n",
        "   print(\"The factorial of\",n,\"is\",factorial)"
      ],
      "metadata": {
        "colab": {
          "base_uri": "https://localhost:8080/"
        },
        "id": "zV9hENm8SFTi",
        "outputId": "c5775cde-c0ae-4f43-b447-a8501e035b8f"
      },
      "execution_count": 73,
      "outputs": [
        {
          "output_type": "stream",
          "name": "stdout",
          "text": [
            "Enter a number: 4\n",
            "The factorial of 4 is 24\n"
          ]
        }
      ]
    },
    {
      "cell_type": "code",
      "source": [
        "# Q no:10\n",
        "a=[\"a\",\"b\",\"c\",\"d\"]\n",
        "b=[\"e\",\"f\",\"g\"]\n",
        "c=a+b\n",
        "print(c)"
      ],
      "metadata": {
        "colab": {
          "base_uri": "https://localhost:8080/"
        },
        "id": "aHv216cYTf7q",
        "outputId": "29f660f2-4dc8-4f39-fe7c-b9f479372cd2"
      },
      "execution_count": 74,
      "outputs": [
        {
          "output_type": "stream",
          "name": "stdout",
          "text": [
            "['a', 'b', 'c', 'd', 'e', 'f', 'g']\n"
          ]
        }
      ]
    }
  ]
}